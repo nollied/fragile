{
 "cells": [
  {
   "cell_type": "markdown",
   "metadata": {},
   "source": [
    "# Function minimization example"
   ]
  },
  {
   "cell_type": "markdown",
   "metadata": {},
   "source": [
    "There are many problems where we only need to sample a single point instead of a trajectory. \n",
    "The `optimize` module is designed for this use case. It provide environments and models that help explore function landscapes in order to find points that meet a desired Min/Max condition."
   ]
  },
  {
   "cell_type": "markdown",
   "metadata": {},
   "source": [
    "## Testing a `FunctionMapper` on a benchmark function"
   ]
  },
  {
   "cell_type": "markdown",
   "metadata": {},
   "source": [
    "The `FunctionMapper` is a `Swarm` with updated default parameters for solving minimization problems. It should be used with a `Function`, which is an `Environment` designed to optimize functions that return an scalar.\n",
    "\n",
    "In this first example we will be using a benchmarking environment that represents the [Eggholder](https://en.wikipedia.org/wiki/Test_functions_for_optimization) function:\n",
    "\n",
    "![eggholder](images/eggholder.png)"
   ]
  },
  {
   "cell_type": "code",
   "execution_count": 1,
   "metadata": {},
   "outputs": [],
   "source": [
    "from fragile.optimize import FunctionMapper\n",
    "from fragile.optimize.benchmarks import EggHolder"
   ]
  },
  {
   "cell_type": "markdown",
   "metadata": {},
   "source": [
    "The EggHolder function is defined in the \\[-512, 512\\] interval."
   ]
  },
  {
   "cell_type": "code",
   "execution_count": 2,
   "metadata": {},
   "outputs": [
    {
     "name": "stdout",
     "output_type": "stream",
     "text": [
      "EggHolder with function eggholder, obs shape (2,), Bounds shape float32 dtype (2,) low [-512. -512.] high [512. 512.]\n"
     ]
    }
   ],
   "source": [
    "print(EggHolder(), EggHolder.get_bounds())"
   ]
  },
  {
   "cell_type": "markdown",
   "metadata": {},
   "source": [
    "And its optimum corresponds to the point (512, 404.2319) with a value of -959.64066271"
   ]
  },
  {
   "cell_type": "code",
   "execution_count": 3,
   "metadata": {},
   "outputs": [
    {
     "name": "stdout",
     "output_type": "stream",
     "text": [
      "[512.     404.2319] -959.64066271\n"
     ]
    }
   ],
   "source": [
    "print(EggHolder().best_state, EggHolder.benchmark)"
   ]
  },
  {
   "cell_type": "markdown",
   "metadata": {},
   "source": [
    "We will be sampling the random perturbations made to the walkers from a Gaussian distribution"
   ]
  },
  {
   "cell_type": "code",
   "execution_count": 4,
   "metadata": {},
   "outputs": [],
   "source": [
    "from fragile.core import NormalContinuous\n",
    "def gaussian_model(env):\n",
    "    # Gaussian of mean 0 and std of 10, adapted to the environment bounds\n",
    "    return NormalContinuous(scale=10, loc=0., bounds=env.bounds)"
   ]
  },
  {
   "cell_type": "markdown",
   "metadata": {},
   "source": [
    "To run the algorithm we need to pass the environment and the model as parameters to the `FunctionMapper`."
   ]
  },
  {
   "cell_type": "code",
   "execution_count": 5,
   "metadata": {},
   "outputs": [
    {
     "data": {
      "text/html": [
       "<style> .widget-label {font-weight: bold !important;} </style>"
      ],
      "text/plain": [
       "<IPython.core.display.HTML object>"
      ]
     },
     "metadata": {},
     "output_type": "display_data"
    }
   ],
   "source": [
    "swarm = FunctionMapper(env=EggHolder,\n",
    "                       model=gaussian_model,\n",
    "                       n_walkers=100,\n",
    "                       max_epochs=500,\n",
    "                      )"
   ]
  },
  {
   "cell_type": "code",
   "execution_count": 6,
   "metadata": {},
   "outputs": [
    {
     "data": {
      "application/vnd.jupyter.widget-view+json": {
       "model_id": "6269b2a8bbc9419bb8608be77a02140b",
       "version_major": 2,
       "version_minor": 0
      },
      "text/plain": [
       "FunctionMapper:   0%|          | 0/500 [00:00<?, ?it/s]"
      ]
     },
     "metadata": {},
     "output_type": "display_data"
    },
    {
     "data": {
      "application/vnd.jupyter.widget-view+json": {
       "model_id": "9272647b45ee42329964004e8375c59c",
       "version_major": 2,
       "version_minor": 0
      },
      "text/plain": [
       "HTML(value='')"
      ]
     },
     "metadata": {},
     "output_type": "display_data"
    }
   ],
   "source": [
    "swarm.run(report_interval=50)"
   ]
  },
  {
   "cell_type": "markdown",
   "metadata": {},
   "source": [
    "## Sampling a function with a local optimizer"
   ]
  },
  {
   "cell_type": "markdown",
   "metadata": {},
   "source": [
    "A simple gaussian perturbation is a very sub-optimal strategy for sampling new points. It is possible to improve the performance of the sampling process if we run a local minimization process after each random perturbation.\n",
    "\n",
    "This can be done using the `MinimizerWrapper` class, that takes in any instance of a `Function` environment, and performs a local minimization process after each environment step.\n",
    "\n",
    "The `MinimizerWrapper` uses `scipy.optimize.minimize` under the hood, and it can take any parameter that `scipy.optimize.minimize` supports."
   ]
  },
  {
   "cell_type": "code",
   "execution_count": 7,
   "metadata": {},
   "outputs": [
    {
     "data": {
      "text/html": [
       "<style> .widget-label {font-weight: bold !important;} </style>"
      ],
      "text/plain": [
       "<IPython.core.display.HTML object>"
      ]
     },
     "metadata": {},
     "output_type": "display_data"
    }
   ],
   "source": [
    "from fragile.optimize import MinimizerWrapper\n",
    "    \n",
    "def optimize_eggholder():\n",
    "    options = {\"maxiter\": 10}\n",
    "    return MinimizerWrapper(EggHolder(), options=options)\n",
    "    \n",
    "swarm = FunctionMapper(env=optimize_eggholder,\n",
    "                       model=gaussian_model,\n",
    "                       n_walkers=50,\n",
    "                       max_epochs=201,\n",
    "                      )"
   ]
  },
  {
   "cell_type": "code",
   "execution_count": 8,
   "metadata": {},
   "outputs": [
    {
     "data": {
      "application/vnd.jupyter.widget-view+json": {
       "model_id": "a4d542a563c741b3a5487517f214235b",
       "version_major": 2,
       "version_minor": 0
      },
      "text/plain": [
       "FunctionMapper:   0%|          | 0/201 [00:00<?, ?it/s]"
      ]
     },
     "metadata": {},
     "output_type": "display_data"
    },
    {
     "data": {
      "application/vnd.jupyter.widget-view+json": {
       "model_id": "b7781c091c374033b8aa96f25a1da35a",
       "version_major": 2,
       "version_minor": 0
      },
      "text/plain": [
       "HTML(value='')"
      ]
     },
     "metadata": {},
     "output_type": "display_data"
    }
   ],
   "source": [
    "swarm.run(report_interval=25)"
   ]
  },
  {
   "cell_type": "markdown",
   "metadata": {},
   "source": [
    "This significantly increases the performance of the algorithm at the expense of using more computational resources."
   ]
  },
  {
   "cell_type": "markdown",
   "metadata": {},
   "source": [
    "## Defining a new problem using a `Function`"
   ]
  },
  {
   "cell_type": "markdown",
   "metadata": {},
   "source": [
    "### The objective function"
   ]
  },
  {
   "cell_type": "markdown",
   "metadata": {},
   "source": [
    "It is possible to optimize any python function that returns an scalar using a `Function`, as long as two requirements are met:\n",
    "\n",
    "- The function needs to work with batches of points stacked across the first dimension of a numpy array. \n",
    "\n",
    "- It returns a vector of scalars corresponding to the values of each point evaluated.\n",
    "\n",
    "This will allow the `Function` to vectorize the calculations on the batch of walkers.\n",
    "\n",
    "We will also need to create a `Bounds` class that define the function domain."
   ]
  },
  {
   "cell_type": "markdown",
   "metadata": {},
   "source": [
    "In this example we will optimize a four dimensional *styblinski_tang* function, which all its coordinates defined in the \\[-5, 5\\] interval:\n",
    "    \n",
    "![styblinski_tang](images/styblinski_tang.png)"
   ]
  },
  {
   "cell_type": "code",
   "execution_count": 9,
   "metadata": {},
   "outputs": [
    {
     "name": "stdout",
     "output_type": "stream",
     "text": [
      "Bounds shape float64 dtype (4,) low [-5. -5. -5. -5.] high [5. 5. 5. 5.]\n"
     ]
    }
   ],
   "source": [
    "import numpy\n",
    "from fragile.core import Bounds\n",
    "\n",
    "def styblinski_tang(x: numpy.ndarray) -> numpy.ndarray:\n",
    "    return numpy.sum(x ** 4 - 16 * x ** 2 + 5 * x, 1) / 2.0\n",
    "\n",
    "bounds = Bounds(low=-5, high=5, shape=(4,))\n",
    "print(bounds)"
   ]
  },
  {
   "cell_type": "markdown",
   "metadata": {},
   "source": [
    "### Defining arbitrary boundary conditions"
   ]
  },
  {
   "cell_type": "markdown",
   "metadata": {},
   "source": [
    "It is possible to define any kind of boundary conditions for the objective function. This can be done by passing a\n",
    "callable object (such as a function) to the ``custom_domain_check`` parameter.\n",
    "\n",
    "The ``custom_domain_check`` function has the following signature:\n",
    "\n",
    "- It takes a batch of points as input (same as the ``function`` parameter).\n",
    "- It returns an array of booleans with the same length as the input array.\n",
    "- Each ``True`` value of the returned array indicates that the corresponding point is **outside** the function domain.\n",
    "\n",
    "The ``custom_domain_check`` will only be applied to the points that are inside the defined ``Bounds``."
   ]
  },
  {
   "cell_type": "code",
   "execution_count": 10,
   "metadata": {},
   "outputs": [],
   "source": [
    "def my_custom_domain_check(x: numpy.ndarray, rewards: numpy.ndarray, n_walkers: int) -> numpy.ndarray:\n",
    "    return (numpy.sum(x, axis=1) > 0.0)"
   ]
  },
  {
   "cell_type": "markdown",
   "metadata": {},
   "source": [
    "To define the new environment we only need to define the appropriate ``env`` callable passing the target ``function``, the ``Bounds``, and optionally a ``custom_domain_check`` to a `Function`.\n",
    "\n",
    "Then we can use a ``FunctionMapper`` (or any other kind of ``Swarm``) to perform the optimization process. "
   ]
  },
  {
   "cell_type": "code",
   "execution_count": 11,
   "metadata": {},
   "outputs": [],
   "source": [
    "from fragile.optimize.env import Function"
   ]
  },
  {
   "cell_type": "code",
   "execution_count": 12,
   "metadata": {},
   "outputs": [
    {
     "data": {
      "text/html": [
       "<style> .widget-label {font-weight: bold !important;} </style>"
      ],
      "text/plain": [
       "<IPython.core.display.HTML object>"
      ]
     },
     "metadata": {},
     "output_type": "display_data"
    }
   ],
   "source": [
    "def local_optimize_styblinsky_tang():\n",
    "    function = Function(function=styblinski_tang, bounds=bounds,\n",
    "                        custom_domain_check=my_custom_domain_check)\n",
    "    options = {\"maxiter\": 10}\n",
    "    return MinimizerWrapper(function, options=options)\n",
    "\n",
    "swarm = FunctionMapper(env=local_optimize_styblinsky_tang,\n",
    "                       model=lambda env: NormalContinuous(scale=1, loc=0.,\n",
    "                                                          bounds=env.bounds),\n",
    "                       n_walkers=50,\n",
    "                       max_epochs=101)"
   ]
  },
  {
   "cell_type": "markdown",
   "metadata": {},
   "source": [
    "Please be aware that if you use a ``MinimizerWrapper`` with a ``Function`` that has a ``custom_domain_check`` defined you can run into trouble.\n",
    "\n",
    "This is because the ``scipy.optimize.minimize`` function that is running under the hood cannot account for arbitrary boundary conditions. This can lead to the ``minimize`` function returning only local minima that are\n",
    "outside the defined ``custom_domain_check``."
   ]
  },
  {
   "cell_type": "code",
   "execution_count": 13,
   "metadata": {
    "scrolled": true
   },
   "outputs": [
    {
     "data": {
      "application/vnd.jupyter.widget-view+json": {
       "model_id": "19f52e16f6d648bab5eff47d2c27e680",
       "version_major": 2,
       "version_minor": 0
      },
      "text/plain": [
       "HBox(children=(HTML(value='FunctionMapper'), FloatProgress(value=0.0, max=101.0), HTML(value='')))"
      ]
     },
     "metadata": {},
     "output_type": "display_data"
    },
    {
     "data": {
      "application/vnd.jupyter.widget-view+json": {
       "model_id": "d42582ec1eb94c7680670d79cc004a36",
       "version_major": 2,
       "version_minor": 0
      },
      "text/plain": [
       "HTML(value='')"
      ]
     },
     "metadata": {},
     "output_type": "display_data"
    },
    {
     "name": "stdout",
     "output_type": "stream",
     "text": [
      "\n"
     ]
    }
   ],
   "source": [
    "swarm.run(report_interval=25)"
   ]
  },
  {
   "cell_type": "markdown",
   "metadata": {},
   "source": [
    "We can see how the optimization was successful in finding the global optima of -156.66468"
   ]
  },
  {
   "cell_type": "code",
   "execution_count": 14,
   "metadata": {
    "scrolled": false
   },
   "outputs": [
    {
     "data": {
      "text/plain": [
       "array([-2.9035418, -2.903541 , -2.9035318, -2.903534 ], dtype=float32)"
      ]
     },
     "execution_count": 14,
     "metadata": {},
     "output_type": "execute_result"
    }
   ],
   "source": [
    "swarm.best_obs"
   ]
  },
  {
   "cell_type": "code",
   "execution_count": 15,
   "metadata": {},
   "outputs": [
    {
     "data": {
      "text/plain": [
       "-156.66466"
      ]
     },
     "execution_count": 15,
     "metadata": {},
     "output_type": "execute_result"
    }
   ],
   "source": [
    "swarm.best_reward"
   ]
  },
  {
   "cell_type": "markdown",
   "metadata": {},
   "source": [
    "## Optimizing a function with Evolutionary Strategies"
   ]
  },
  {
   "cell_type": "markdown",
   "metadata": {},
   "source": [
    "It is possible to use the `fragile` framework to implement optimization algorithms that do not rely on a cloning process, such as Evolutionary Strategies.\n",
    "\n",
    "If the cloning process is not needed the `NoBalance` `Swarm` is the recommended choice. It has the same features of a regular `Swarm`, but it does not perform the cloning process."
   ]
  },
  {
   "cell_type": "code",
   "execution_count": 16,
   "metadata": {},
   "outputs": [],
   "source": [
    "from fragile.core.swarm import NoBalance\n",
    "from fragile.optimize.models import ESModel"
   ]
  },
  {
   "cell_type": "markdown",
   "metadata": {},
   "source": [
    "In this example we will be solving a Lennard-Jonnes cluster of 4 particles, which is a 12-dimensional function with a global minima at -6."
   ]
  },
  {
   "cell_type": "code",
   "execution_count": 17,
   "metadata": {},
   "outputs": [],
   "source": [
    "from fragile.optimize.benchmarks import LennardJones"
   ]
  },
  {
   "cell_type": "code",
   "execution_count": 18,
   "metadata": {},
   "outputs": [
    {
     "data": {
      "text/html": [
       "<style> .widget-label {font-weight: bold !important;} </style>"
      ],
      "text/plain": [
       "<IPython.core.display.HTML object>"
      ]
     },
     "metadata": {},
     "output_type": "display_data"
    }
   ],
   "source": [
    "swarm = NoBalance(env=lambda : LennardJones(n_atoms=4),\n",
    "                  model=lambda env: ESModel(bounds=env.bounds),\n",
    "                  accumulate_rewards=False,\n",
    "                  minimize=True,\n",
    "                  n_walkers=25,\n",
    "                  max_epochs=15000,\n",
    "                 )"
   ]
  },
  {
   "cell_type": "code",
   "execution_count": 19,
   "metadata": {},
   "outputs": [
    {
     "data": {
      "application/vnd.jupyter.widget-view+json": {
       "model_id": "4e8f1b44e8b342ca872ed8e6f11ed943",
       "version_major": 2,
       "version_minor": 0
      },
      "text/plain": [
       "HBox(children=(HTML(value='NoBalance'), FloatProgress(value=0.0, max=15000.0), HTML(value='')))"
      ]
     },
     "metadata": {},
     "output_type": "display_data"
    },
    {
     "data": {
      "application/vnd.jupyter.widget-view+json": {
       "model_id": "11658160245241ea82004f50718e1be9",
       "version_major": 2,
       "version_minor": 0
      },
      "text/plain": [
       "HTML(value='')"
      ]
     },
     "metadata": {},
     "output_type": "display_data"
    },
    {
     "name": "stdout",
     "output_type": "stream",
     "text": [
      "\n"
     ]
    }
   ],
   "source": [
    "swarm.run(report_interval=25)"
   ]
  },
  {
   "cell_type": "code",
   "execution_count": null,
   "metadata": {},
   "outputs": [],
   "source": []
  }
 ],
 "metadata": {
  "kernelspec": {
   "display_name": "Python 3",
   "language": "python",
   "name": "python3"
  },
  "language_info": {
   "codemirror_mode": {
    "name": "ipython",
    "version": 3
   },
   "file_extension": ".py",
   "mimetype": "text/x-python",
   "name": "python",
   "nbconvert_exporter": "python",
   "pygments_lexer": "ipython3",
   "version": "3.8.5"
  }
 },
 "nbformat": 4,
 "nbformat_minor": 2
}
